{
 "cells": [
  {
   "cell_type": "code",
   "execution_count": 1,
   "id": "5b7e75c2",
   "metadata": {},
   "outputs": [],
   "source": [
    "import math\n",
    "import numpy as np"
   ]
  },
  {
   "cell_type": "code",
   "execution_count": 2,
   "id": "9aa8b88b",
   "metadata": {},
   "outputs": [],
   "source": [
    "N = 100\n",
    "a = 0\n",
    "b = 2 * math.pi\n",
    "h = (b - a) / N"
   ]
  },
  {
   "cell_type": "code",
   "execution_count": 11,
   "id": "70e714aa",
   "metadata": {},
   "outputs": [],
   "source": [
    "def f1(k):\n",
    "    x_1 = 0.5 * math.pi\n",
    "    x_2 = 0.7 * math.pi\n",
    "    delta = 0.1 * math.pi\n",
    "    \n",
    "    return math.exp(-((k - 1) * h - x_1) * ((k - 1) * h - x_1) / delta / delta) + \\\n",
    "math.exp(-((k - 1) * h - x_2) * ((k - 1) * h - x_2) / delta / delta)\n",
    " \n",
    "def f2(k):\n",
    "    return 10 <= k <= 30"
   ]
  },
  {
   "cell_type": "code",
   "execution_count": 12,
   "id": "a3556ad0",
   "metadata": {},
   "outputs": [],
   "source": [
    "def my_method_step(u, r):\n",
    "    result = np.zeros(len(u), np.double)\n",
    "    for i in range(len(u)):\n",
    "        result[i] = u[i - 2] * (r-1) * r * (1+r) / 6 + u[i - 1] * (2-r) * r * (1+r) / 2 + \\\n",
    "        u[i] * (2-r) * (1-r) * (1+r) / 2 - u[(i+1) % len(u)] * (2-r) * (1-r) * r / 6\n",
    "    return result"
   ]
  },
  {
   "cell_type": "markdown",
   "id": "d23bed77",
   "metadata": {},
   "source": [
    "Число куранта"
   ]
  },
  {
   "cell_type": "code",
   "execution_count": 52,
   "id": "07f219f8",
   "metadata": {},
   "outputs": [],
   "source": [
    "r = 1"
   ]
  },
  {
   "cell_type": "code",
   "execution_count": 56,
   "id": "48013b64",
   "metadata": {},
   "outputs": [],
   "source": [
    "x = np.array([h * i for i in range(N + 1)], dtype = np.double)\n",
    "\n",
    "u_0 = np.array([f2(i) for i in range(N + 1)], dtype = np.double)\n",
    "answer = u_0\n",
    "for _ in range(101):\n",
    "    answer = my_method_step(answer, r)"
   ]
  },
  {
   "cell_type": "code",
   "execution_count": 26,
   "id": "1472ee72",
   "metadata": {},
   "outputs": [],
   "source": [
    "import matplotlib.pyplot as plt"
   ]
  },
  {
   "cell_type": "code",
   "execution_count": 57,
   "id": "e6da42cf",
   "metadata": {},
   "outputs": [
    {
     "data": {
      "text/plain": [
       "<function matplotlib.pyplot.show(close=None, block=None)>"
      ]
     },
     "execution_count": 57,
     "metadata": {},
     "output_type": "execute_result"
    },
    {
     "data": {
      "image/png": "[encoded data removed]",
      "text/plain": [
       "<Figure size 640x480 with 1 Axes>"
      ]
     },
     "metadata": {},
     "output_type": "display_data"
    }
   ],
   "source": [
    "plt.plot(x, u_0, color = 'red', linewidth=1)\n",
    "plt.plot(x, answer, color = 'orange')\n",
    "plt.axis()\n",
    "plt.grid()\n",
    "\n",
    "plt.show"
   ]
  },
  {
   "cell_type": "code",
   "execution_count": 40,
   "id": "2b792a8e",
   "metadata": {},
   "outputs": [],
   "source": [
    "from PIL import Image"
   ]
  },
  {
   "cell_type": "code",
   "execution_count": 52,
   "id": "a70a6c4a",
   "metadata": {},
   "outputs": [],
   "source": [
    "def animator(folder_name, cfl) -> None: \n",
    "    # Список для хранения кадров. \n",
    "    frames = [] \n",
    " \n",
    "    for frame_number in range(0, int(101 / cfl), 5): \n",
    "        # Открываем изображение каждого кадра. \n",
    "        frame = Image.open(f'./{folder_name}/{frame_number}.png') \n",
    "        # Добавляем кадр в список с кадрами. \n",
    "        frames.append(frame) \n",
    " \n",
    "    # Берем первый кадр и в него добавляем оставшееся кадры. \n",
    "    frames[0].save( \n",
    "        f'Shema_{cfl}.gif', \n",
    "        save_all=True, \n",
    "        append_images=frames[1:],  # Срез который игнорирует первый кадр. \n",
    "        optimize=True, \n",
    "        duration=200, \n",
    "        loop=0 \n",
    "    )"
   ]
  },
  {
   "cell_type": "code",
   "execution_count": 42,
   "id": "bbf05cfa",
   "metadata": {},
   "outputs": [],
   "source": [
    "cfls = [1, 0.9, 0.5, 0.3, 0.1, 0.99]"
   ]
  },
  {
   "cell_type": "code",
   "execution_count": 54,
   "id": "14fee13a",
   "metadata": {},
   "outputs": [],
   "source": [
    "x = np.array([h * i for i in range(N + 1)], dtype = np.double)\n",
    "u_0 = np.array([f1(i) for i in range(N + 1)], dtype = np.double)\n"
   ]
  },
  {
   "cell_type": "code",
   "execution_count": 55,
   "id": "3e85151f",
   "metadata": {},
   "outputs": [],
   "source": [
    "for cfl in cfls:\n",
    "    answer = u_0\n",
    "    for i in range(int(101 / cfl)):\n",
    "        if i % 5 == 0:\n",
    "            plt.plot(x, answer, color = 'red', label = f'step {i}')\n",
    "            plt.legend(loc=1)\n",
    "            plt.axis(ymax = 1.1)\n",
    "            plt.grid()\n",
    "        \n",
    "            plt.savefig(f'./{cfl}/{i}.png')\n",
    "            plt.close()\n",
    "        \n",
    "        answer = my_method_step(answer, cfl)\n",
    "    \n",
    "    animator(f\"{cfl}\", cfl)\n",
    "    "
   ]
  },
  {
   "cell_type": "code",
   "execution_count": 49,
   "id": "9f5692a4",
   "metadata": {},
   "outputs": [],
   "source": [
    "def animator2(folder_name, cfl) -> None: \n",
    "    # Список для хранения кадров. \n",
    "    frames = [] \n",
    " \n",
    "    for frame_number in range(0, int(101 / cfl), 5): \n",
    "        # Открываем изображение каждого кадра. \n",
    "        frame = Image.open(f'./{folder_name}/{frame_number}.png') \n",
    "        # Добавляем кадр в список с кадрами. \n",
    "        frames.append(frame) \n",
    " \n",
    "    # Берем первый кадр и в него добавляем оставшееся кадры. \n",
    "    frames[0].save( \n",
    "        f'Shema2_{cfl}.gif', \n",
    "        save_all=True, \n",
    "        append_images=frames[1:],  # Срез который игнорирует первый кадр. \n",
    "        optimize=True, \n",
    "        duration=200, \n",
    "        loop=0 \n",
    "    )"
   ]
  },
  {
   "cell_type": "code",
   "execution_count": 50,
   "id": "2c68a0d2",
   "metadata": {},
   "outputs": [],
   "source": [
    "x = np.array([h * i for i in range(N + 1)], dtype = np.double)\n",
    "u_0 = np.array([f2(i) for i in range(N + 1)], dtype = np.double)\n"
   ]
  },
  {
   "cell_type": "code",
   "execution_count": 51,
   "id": "9cd0fe13",
   "metadata": {},
   "outputs": [],
   "source": [
    "for cfl in cfls:\n",
    "    answer = u_0\n",
    "    for i in range(int(101 / cfl)):\n",
    "        if i % 5 == 0:\n",
    "            plt.plot(x, answer, color = 'red', label = f'step {i}')\n",
    "            plt.legend(loc=1)\n",
    "            plt.axis(ymax = 1.1)\n",
    "            plt.grid()\n",
    "        \n",
    "            plt.savefig(f'./{cfl}_2/{i}.png')\n",
    "            plt.close()\n",
    "        \n",
    "        answer = my_method_step(answer, cfl)\n",
    "    \n",
    "    animator2(f\"{cfl}_2\", cfl)\n",
    "    "
   ]
  },
  {
   "cell_type": "code",
   "execution_count": null,
   "id": "12d4f861",
   "metadata": {},
   "outputs": [],
   "source": []
  }
 ],
 "metadata": {
  "kernelspec": {
   "display_name": "Python 3 (ipykernel)",
   "language": "python",
   "name": "python3"
  },
  "language_info": {
   "codemirror_mode": {
    "name": "ipython",
    "version": 3
   },
   "file_extension": ".py",
   "mimetype": "text/x-python",
   "name": "python",
   "nbconvert_exporter": "python",
   "pygments_lexer": "ipython3",
   "version": "3.11.4"
  }
 },
 "nbformat": 4,
 "nbformat_minor": 5
}
